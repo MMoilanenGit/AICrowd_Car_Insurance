{
  "nbformat": 4,
  "nbformat_minor": 0,
  "metadata": {
    "colab": {
      "name": "Data prep.ipynb",
      "provenance": [],
      "collapsed_sections": [],
      "authorship_tag": "ABX9TyPqq6PGpypeiViAJB6vbTVe",
      "include_colab_link": true
    },
    "kernelspec": {
      "name": "python3",
      "display_name": "Python 3"
    }
  },
  "cells": [
    {
      "cell_type": "markdown",
      "metadata": {
        "id": "view-in-github",
        "colab_type": "text"
      },
      "source": [
        "<a href=\"https://colab.research.google.com/github/MMoilanenGit/AICrowd_Car_Insurance/blob/main/Data_prep.ipynb\" target=\"_parent\"><img src=\"https://colab.research.google.com/assets/colab-badge.svg\" alt=\"Open In Colab\"/></a>"
      ]
    },
    {
      "cell_type": "code",
      "metadata": {
        "id": "GsUrHTvSQ8QV"
      },
      "source": [
        ""
      ],
      "execution_count": 11,
      "outputs": []
    },
    {
      "cell_type": "markdown",
      "metadata": {
        "id": "PQeoKVF2S6z6"
      },
      "source": [
        "# New Section"
      ]
    },
    {
      "cell_type": "markdown",
      "metadata": {
        "id": "TIHkPjSiejEM"
      },
      "source": [
        "# New Section"
      ]
    },
    {
      "cell_type": "markdown",
      "metadata": {
        "id": "eft-SVHzS7ds"
      },
      "source": [
        "# New Section"
      ]
    },
    {
      "cell_type": "code",
      "metadata": {
        "colab": {
          "base_uri": "https://localhost:8080/"
        },
        "id": "NIz-WXCyTgTv",
        "outputId": "59b8a6b5-a8b5-4482-b691-3bae6c2d31db"
      },
      "source": [
        "import pandas as pd\r\n",
        "\r\n",
        "from google.colab import drive\r\n",
        "drive.mount(\"/content/gdrive/\")\r\n",
        "\r\n",
        "data = pd.read_csv('/content/gdrive/My Drive/Projects/Car Insurance Pricing/training.csv')"
      ],
      "execution_count": 28,
      "outputs": [
        {
          "output_type": "stream",
          "text": [
            "Drive already mounted at /content/gdrive/; to attempt to forcibly remount, call drive.mount(\"/content/gdrive/\", force_remount=True).\n"
          ],
          "name": "stdout"
        }
      ]
    },
    {
      "cell_type": "code",
      "metadata": {
        "id": "dO9W993uSGCt"
      },
      "source": [
        "import numpy as np\r\n",
        "import sklearn as sk\r\n",
        "data.columns\r\n",
        "\r\n",
        "# divide to train and validation datasets, years 1-3 and val on year 4\r\n",
        "train_bronze = data[data[\"year\"] < 4]\r\n",
        "val_bronze = data[data[\"year\"] < 4]\r\n",
        "\r\n",
        "# Use only selected columns\r\n",
        "cols_X = [\"pol_no_claims_discount\",\r\n",
        "          \"pol_coverage\",\r\n",
        "          \"pol_duration\",\r\n",
        "          \"pol_payd\",\r\n",
        "          \"pol_usage\",\r\n",
        "          \"drv_sex1\",\r\n",
        "          \"drv_age1\",\r\n",
        "          \"vh_type\",\r\n",
        "          \"vh_age\",\r\n",
        "          \"population\"]\r\n",
        "\r\n",
        "col_Y = [\"claim_amount\"]    \r\n",
        "\r\n",
        "\r\n",
        "# \r\n",
        "train_X = train[cols_X]\r\n",
        "train_Y = train[col_Y]"
      ],
      "execution_count": 31,
      "outputs": []
    },
    {
      "cell_type": "code",
      "metadata": {
        "colab": {
          "base_uri": "https://localhost:8080/"
        },
        "id": "L6Iyg1pBT9Jy",
        "outputId": "a3fb224b-4dbd-4f73-b811-dc56eee13e88"
      },
      "source": [
        "# Transfer object to OnehotEncoded variables and scale numerical values\r\n",
        "\r\n",
        "from sklearn.preprocessing import MinMaxScaler\r\n",
        "from sklearn.preprocessing import OneHotEncoder\r\n",
        "\r\n",
        "one_hot_X = [\"pol_coverage\", \"pol_payd\", \"pol_usage\", \"drv_sex1\", \"vh_type\"]\r\n",
        "scaler_X = [\"pol_no_claims_discount\",\"pol_duration\", \"drv_age1\",\"vh_age\",\"population\"]\r\n",
        "\r\n",
        "# create onehot encoded variable \r\n",
        "train_enc_silver = OneHotEncoder(handle_unknown='ignore').fit(train_X[one_hot_X])\r\n",
        "train_enc_silver = pd.DataFrame(train_enc_silver.transform(train_X[one_hot_X]).toarray())\r\n",
        "train_enc_silver\r\n",
        "\r\n",
        "# Scale numerical columns \r\n",
        "train_scaled_silver = MinMaxScaler().fit_transform(train_X[scaler_X])\r\n",
        "train_scaled_silver = pd.DataFrame(train_scaled_silver, columns=[scaler_X])\r\n",
        "\r\n",
        "\r\n",
        "# MErge scaled and encoded data which we can feed to NEural Network model\r\n",
        "train_gold = pd.concat([train_enc_silver,train_scaled_silver], axis = 1)"
      ],
      "execution_count": 52,
      "outputs": [
        {
          "output_type": "execute_result",
          "data": {
            "text/plain": [
              "pandas.core.frame.DataFrame"
            ]
          },
          "metadata": {
            "tags": []
          },
          "execution_count": 52
        }
      ]
    },
    {
      "cell_type": "code",
      "metadata": {
        "id": "e1RbLerFdDzP"
      },
      "source": [
        ""
      ],
      "execution_count": 54,
      "outputs": []
    },
    {
      "cell_type": "code",
      "metadata": {
        "id": "slVTAfiI1U3y"
      },
      "source": [
        ""
      ],
      "execution_count": 54,
      "outputs": []
    },
    {
      "cell_type": "code",
      "metadata": {
        "id": "FOca5r_5dMv4"
      },
      "source": [
        ""
      ],
      "execution_count": 54,
      "outputs": []
    },
    {
      "cell_type": "code",
      "metadata": {
        "id": "pIZP7MgXpbfm"
      },
      "source": [
        ""
      ],
      "execution_count": null,
      "outputs": []
    }
  ]
}