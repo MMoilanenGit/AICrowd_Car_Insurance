{
  "nbformat": 4,
  "nbformat_minor": 0,
  "metadata": {
    "colab": {
      "name": "Data prep.ipynb",
      "provenance": [],
      "collapsed_sections": []
    },
    "kernelspec": {
      "name": "python3",
      "display_name": "Python 3"
    }
  },
  "cells": [
    {
      "cell_type": "markdown",
      "metadata": {
        "id": "z16vg3xxWdsX"
      },
      "source": [
        "Build baseline model using Neural Network  "
      ]
    },
    {
      "cell_type": "code",
      "metadata": {
        "colab": {
          "base_uri": "https://localhost:8080/"
        },
        "id": "NIz-WXCyTgTv",
        "outputId": "59b8a6b5-a8b5-4482-b691-3bae6c2d31db"
      },
      "source": [
        "import pandas as pd\r\n",
        "\r\n",
        "from google.colab import drive\r\n",
        "drive.mount(\"/content/gdrive/\")\r\n",
        "\r\n",
        "data = pd.read_csv('/content/gdrive/My Drive/Projects/Car Insurance Pricing/training.csv')"
      ],
      "execution_count": 28,
      "outputs": [
        {
          "output_type": "stream",
          "text": [
            "Drive already mounted at /content/gdrive/; to attempt to forcibly remount, call drive.mount(\"/content/gdrive/\", force_remount=True).\n"
          ],
          "name": "stdout"
        }
      ]
    },
    {
      "cell_type": "code",
      "metadata": {
        "id": "dO9W993uSGCt"
      },
      "source": [
        "import numpy as np\r\n",
        "import sklearn as sk\r\n",
        "\r\n",
        "# divide to train and validation datasets, years 1-3 and validation on year 4\r\n",
        "train_bronze = data[data[\"year\"] < 4]\r\n",
        "val_bronze = data[data[\"year\"] < 4]\r\n",
        "\r\n",
        "\r\n",
        "from sklearn.preprocessing import MinMaxScaler\r\n",
        "from sklearn.preprocessing import OneHotEncoder\r\n",
        "\r\n",
        "def data_prep_NN(data):\r\n",
        "\r\n",
        "  \"\"\"\r\n",
        "  Prepare data to feed in Neural Network model\"\"\"\r\n",
        "  \r\n",
        "  # predictor columns to be included in model, factors onehotencoded, numericals scaled\r\n",
        "  one_hot_X = [\"pol_coverage\", \"pol_payd\", \"pol_usage\", \"drv_sex1\", \"vh_type\"]\r\n",
        "  scaler_X = [\"pol_no_claims_discount\",\"pol_duration\", \"drv_age1\",\"vh_age\",\"population\"]\r\n",
        "\r\n",
        "\r\n",
        "  # Onehotencoding\r\n",
        "  oh_encoder = OneHotEncoder(handle_unknown='ignore').fit(data[one_hot_X])\r\n",
        "  enc_silver = pd.DataFrame(oh_encoder.transform(data[one_hot_X]).toarray())\r\n",
        "  enc_silver.columns = oh_encoder.get_feature_names(one_hot_X)\r\n",
        "\r\n",
        "  # Scaling\r\n",
        "  scaled_silver = MinMaxScaler().fit_transform(train_X[scaler_X])\r\n",
        "  scaled_silver = pd.DataFrame(scaled_silver, columns=[scaler_X])\r\n",
        "  scaled_silver.columns = scaler_X\r\n",
        "\r\n",
        "  # Target column, \"claim_amount\"\r\n",
        "  target_Y = data[\"claim_amount\"]\r\n",
        "\r\n",
        "  # pull data together\r\n",
        "  data_gold = pd.concat([enc_silver,scaled_silver, target_Y], axis = 1).dropna()\r\n",
        "  data_gold_Y = train_gold[\"claim_amount\"]\r\n",
        "  data_gold_X = train_gold.drop(\"claim_amount\", axis= 1)\r\n",
        "  \r\n",
        "  return data_gold_X, data_gold_Y\r\n",
        "\r\n",
        "\r\n",
        "train_X, train_Y = data_prep_NN(train_bronze)\r\n",
        "val_X, val_Y = data_prep_NN(val_bronze)"
      ],
      "execution_count": 135,
      "outputs": []
    },
    {
      "cell_type": "code",
      "metadata": {
        "id": "cmc4gR_zHbkd"
      },
      "source": [
        "# Create Neural network to predict regression\r\n",
        "\r\n",
        "from sklearn.neural_network import MLPRegressor\r\n",
        "\r\n",
        "mlp = MLPRegressor(hidden_layer_sizes=112, activation='tanh', \r\n",
        "                       solver='adam', shuffle=False, random_state=42, \r\n",
        "                       max_iter=5000, momentum=0.7, early_stopping=True, \r\n",
        "                       validation_fraction=0.15)\r\n",
        "\r\n",
        "base_NN_model = mlp.fit(train_X, train_Y)"
      ],
      "execution_count": 136,
      "outputs": []
    },
    {
      "cell_type": "code",
      "metadata": {
        "colab": {
          "base_uri": "https://localhost:8080/"
        },
        "id": "L6Iyg1pBT9Jy",
        "outputId": "faf3d5e1-945a-43a9-fbaa-13fb335aee06"
      },
      "source": [
        "# Evaluate RMSE \r\n",
        "from sklearn.metrics import mean_squared_error\r\n",
        "\r\n",
        "pred_val = base_NN_model.predict(val_X)\r\n",
        "rmse = np.sqrt(mean_squared_error(val_Y, pred_val))\r\n",
        "rmse"
      ],
      "execution_count": 137,
      "outputs": [
        {
          "output_type": "execute_result",
          "data": {
            "text/plain": [
              "576.1737012504997"
            ]
          },
          "metadata": {
            "tags": []
          },
          "execution_count": 137
        }
      ]
    },
    {
      "cell_type": "code",
      "metadata": {
        "id": "e1RbLerFdDzP"
      },
      "source": [
        ""
      ],
      "execution_count": 131,
      "outputs": []
    },
    {
      "cell_type": "code",
      "metadata": {
        "id": "rnh6TZhmTgQI"
      },
      "source": [
        ""
      ],
      "execution_count": 131,
      "outputs": []
    },
    {
      "cell_type": "code",
      "metadata": {
        "id": "49fHKCmKPE_A"
      },
      "source": [
        ""
      ],
      "execution_count": null,
      "outputs": []
    },
    {
      "cell_type": "code",
      "metadata": {
        "id": "slVTAfiI1U3y"
      },
      "source": [
        ""
      ],
      "execution_count": 134,
      "outputs": []
    },
    {
      "cell_type": "code",
      "metadata": {
        "id": "yj6zVfdZGVqR"
      },
      "source": [
        ""
      ],
      "execution_count": 131,
      "outputs": []
    },
    {
      "cell_type": "code",
      "metadata": {
        "id": "FOca5r_5dMv4"
      },
      "source": [
        ""
      ],
      "execution_count": 131,
      "outputs": []
    },
    {
      "cell_type": "code",
      "metadata": {
        "id": "pIZP7MgXpbfm"
      },
      "source": [
        ""
      ],
      "execution_count": 131,
      "outputs": []
    },
    {
      "cell_type": "code",
      "metadata": {
        "id": "CRq0_edMCyF6"
      },
      "source": [
        ""
      ],
      "execution_count": 131,
      "outputs": []
    },
    {
      "cell_type": "code",
      "metadata": {
        "id": "k2l7V2z6G3G_"
      },
      "source": [
        ""
      ],
      "execution_count": null,
      "outputs": []
    }
  ]
}